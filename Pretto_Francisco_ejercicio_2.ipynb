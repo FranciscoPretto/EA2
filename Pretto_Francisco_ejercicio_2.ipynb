{
  "nbformat": 4,
  "nbformat_minor": 0,
  "metadata": {
    "colab": {
      "name": "Copia de Untitled0.ipynb",
      "provenance": [],
      "collapsed_sections": [],
      "authorship_tag": "ABX9TyPAqbMaE4CGM1guC7N35SNi",
      "include_colab_link": true
    },
    "kernelspec": {
      "name": "python3",
      "display_name": "Python 3"
    },
    "accelerator": "GPU"
  },
  "cells": [
    {
      "cell_type": "markdown",
      "metadata": {
        "id": "view-in-github",
        "colab_type": "text"
      },
      "source": [
        "<a href=\"https://colab.research.google.com/github/FranciscoPretto/EA2/blob/entrega/Pretto_Francisco_ejercicio_2.ipynb\" target=\"_parent\"><img src=\"https://colab.research.google.com/assets/colab-badge.svg\" alt=\"Open In Colab\"/></a>"
      ]
    },
    {
      "cell_type": "markdown",
      "metadata": {
        "id": "42YK66ZCdE7L"
      },
      "source": [
        "# 1. Introducción"
      ]
    },
    {
      "cell_type": "markdown",
      "metadata": {
        "id": "DSCqd4CkdYxb"
      },
      "source": [
        "# 2. Armado del ambiente"
      ]
    },
    {
      "cell_type": "code",
      "metadata": {
        "colab": {
          "base_uri": "https://localhost:8080/"
        },
        "id": "1xMazOvCI8FF",
        "outputId": "1040a352-2c17-4df2-b9d1-efbca47738f9"
      },
      "source": [
        "!pip install pycuda"
      ],
      "execution_count": 1,
      "outputs": [
        {
          "output_type": "stream",
          "text": [
            "Requirement already satisfied: pycuda in /usr/local/lib/python3.6/dist-packages (2020.1)\n",
            "Requirement already satisfied: decorator>=3.2.0 in /usr/local/lib/python3.6/dist-packages (from pycuda) (4.4.2)\n",
            "Requirement already satisfied: appdirs>=1.4.0 in /usr/local/lib/python3.6/dist-packages (from pycuda) (1.4.4)\n",
            "Requirement already satisfied: mako in /usr/local/lib/python3.6/dist-packages (from pycuda) (1.1.3)\n",
            "Requirement already satisfied: pytools>=2011.2 in /usr/local/lib/python3.6/dist-packages (from pycuda) (2020.4.3)\n",
            "Requirement already satisfied: MarkupSafe>=0.9.2 in /usr/local/lib/python3.6/dist-packages (from mako->pycuda) (1.1.1)\n",
            "Requirement already satisfied: numpy>=1.6.0 in /usr/local/lib/python3.6/dist-packages (from pytools>=2011.2->pycuda) (1.18.5)\n",
            "Requirement already satisfied: dataclasses>=0.7; python_version <= \"3.6\" in /usr/local/lib/python3.6/dist-packages (from pytools>=2011.2->pycuda) (0.7)\n",
            "Requirement already satisfied: six>=1.8.0 in /usr/local/lib/python3.6/dist-packages (from pytools>=2011.2->pycuda) (1.15.0)\n"
          ],
          "name": "stdout"
        }
      ]
    },
    {
      "cell_type": "markdown",
      "metadata": {
        "id": "eoBZ12NmdfEd"
      },
      "source": [
        "# 3. Desarrollo\n",
        "\n",
        "\n"
      ]
    },
    {
      "cell_type": "code",
      "metadata": {
        "id": "RhWStK1FW4KZ",
        "colab": {
          "base_uri": "https://localhost:8080/"
        },
        "outputId": "a53a88e5-14d7-4c15-9c47-c5203192c714"
      },
      "source": [
        "from datetime import datetime\n",
        "tiempo_total = datetime.now()\n",
        "\n",
        "import matplotlib.pyplot as plt\n",
        "import math \n",
        "import numpy\n",
        "from PIL import Image \n",
        "import pycuda.driver as cuda\n",
        "import pycuda.autoinit\n",
        "from pycuda.compiler import SourceModule\n",
        "\n",
        "key = \"HACK\"\n",
        "\n",
        "#Encriptar\n",
        "\n",
        "def encriptarMensaje():\n",
        "    \n",
        "    msg = \"\"\"Geeks for Geeks\"\"\"\n",
        "\n",
        "   #msg = \"\"\"Geeks for Geeksdsadasdasdddddddd\"\"\"\n",
        "    mensaje_cifrado = \"\"\n",
        "\n",
        "    # track key indices \n",
        "    k_indx = 0\n",
        "  \n",
        "    msg_len = float(len(msg)) \n",
        "    msg_lst = list(msg) \n",
        "    key_lst = sorted(list(key)) \n",
        "\n",
        "    #Genero la lista con el orden de la clave\n",
        "    orden_clave=[]\n",
        "    for i in range(len(key)):\n",
        "        orden_clave+=[key.index(key_lst[i])]\n",
        "\n",
        "    print(orden_clave)\n",
        "    # Calcular numeros de columnas\n",
        "    col = len(key)\n",
        "\n",
        "     # Calcular maximo numero de filas\n",
        "    row = int(math.ceil(msg_len / col)) \n",
        "\n",
        "    # Agregar los caracteres de relleno en los lugares sobrantesd de la matriz\n",
        "\n",
        "    fill_null = int((row * col) - msg_len) \n",
        "    msg_lst.extend('_' * fill_null)\n",
        "\n",
        "    # Crear la matriz e insertar los datos\n",
        "\n",
        "    matrix = [msg_lst[i: i + col]  \n",
        "              for i in range(0, len(msg_lst), col)] \n",
        "    \n",
        "    #Creo las variables para enviarlas\n",
        "\n",
        "    matrix_cpu = numpy.asmatrix(matrix)\n",
        "    vector_cpu = numpy.empty_like(msg_lst)\n",
        "    clave_cpu = numpy.asarray(orden_clave)\n",
        "\n",
        "    #Reservo el espacio en memoria de GPU\n",
        "    matrix_gpu = cuda.mem_alloc(matrix_cpu.nbytes)\n",
        "    vector_gpu = cuda.mem_alloc(vector_cpu.nbytes)\n",
        "    clave_gpu = cuda.mem_alloc(clave_cpu.nbytes)\n",
        "\n",
        "    #Copio la memoria a la GPU\n",
        "    cuda.memcpy_htod(matrix_gpu,matrix_cpu)\n",
        "    cuda.memcpy_htod(clave_gpu,clave_cpu)\n",
        "\n",
        "    # CPU - Defino la función kernel que ejecutará en GPU.\n",
        "    module = SourceModule(\"\"\"\n",
        "    __global__ void transposition_cipher( int filas, int columnas, int* matriz, int* clave, int* resultado)   \n",
        "    {\n",
        "        // Calculo las coordenadas del Thread en dos dimensiones.\n",
        "        int idx = threadIdx.x + blockIdx.x*blockDim.x;\n",
        "        int idy = threadIdx.y + blockIdx.y*blockDim.y;\n",
        "\n",
        "          // Verifico que los Thread, esten dentro de las dimensiones de la matriz.\n",
        "\n",
        "          if(idx < columnas && idy <  filas)\n",
        "          {\n",
        "\n",
        "              int curr_idy = clave[idy*2];\n",
        "              int pos_res = (idy*filas)+idx;\n",
        "              resultado[pos_res] = matriz[curr_idy+(idx*columnas)]; \n",
        "        }\n",
        "\n",
        "    }\n",
        "        \n",
        "    \"\"\")\n",
        "\n",
        "    # CPU - Genero la función kernel.\n",
        "    kernel = module.get_function(\"transposition_cipher\")\n",
        "\n",
        "\n",
        "    dim_hilo_x = row\n",
        "    dim_bloque_x = numpy.int( (col+dim_hilo_x-1) / dim_hilo_x )\n",
        "\n",
        "    dim_hilo_y = col\n",
        "    dim_bloque_y = numpy.int( (row+dim_hilo_y-1) / dim_hilo_y )\n",
        "\n",
        "    print( \"Thread: [\", dim_hilo_x, \",\", dim_hilo_y, \" ], Bloque : [\", dim_bloque_x, \",\", dim_bloque_y, \"]\" )\n",
        "    print( \"Total de Thread: [\", dim_hilo_x*dim_bloque_x, \",\", dim_hilo_y*dim_bloque_y, \" ]\", \" = \", dim_hilo_x*dim_bloque_x*dim_hilo_y*dim_bloque_y )\n",
        "\n",
        "    kernel( numpy.int32(row), numpy.int32(col),matrix_gpu, clave_gpu,vector_gpu,block=( dim_hilo_x, dim_hilo_y, 1 ), grid=(dim_bloque_x, dim_bloque_y,1) )\n",
        "\n",
        "    # GPU - Copio el resultado desde la memoria GPU.\n",
        "    cuda.memcpy_dtoh( vector_cpu, vector_gpu )\n",
        "    print(vector_cpu)\n",
        "  \n",
        "\n",
        "encriptarMensaje()\n"
      ],
      "execution_count": 2,
      "outputs": [
        {
          "output_type": "stream",
          "text": [
            "[1, 2, 0, 3]\n",
            "Thread: [ 4 , 4  ], Bloque : [ 1 , 1 ]\n",
            "Total de Thread: [ 4 , 4  ]  =  16\n",
            "['e' ' ' ' ' 'k' 'e' 'f' 'G' 's' 'G' 's' 'r' 'e' 'k' 'o' 'e' '_']\n"
          ],
          "name": "stdout"
        }
      ]
    },
    {
      "cell_type": "markdown",
      "metadata": {
        "id": "on4yRLANdx4W"
      },
      "source": [
        "# 4. Tabla de pasos"
      ]
    },
    {
      "cell_type": "markdown",
      "metadata": {
        "id": "e8e56_d5d453"
      },
      "source": [
        "# 5. Conclusiones"
      ]
    },
    {
      "cell_type": "markdown",
      "metadata": {
        "id": "oqtxQznhd-JU"
      },
      "source": [
        "#6. Bibliografía"
      ]
    }
  ]
}